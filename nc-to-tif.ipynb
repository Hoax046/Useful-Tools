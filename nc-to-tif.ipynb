{
 "cells": [
  {
   "attachments": {},
   "cell_type": "markdown",
   "metadata": {},
   "source": [
    "任务举例:降水nc数据转tif\n",
    "坐标系为WGS 84。\n",
    "工具准备:Python GDAL和netCDF4环境。\n",
    "操作：替换代码中的属性变量名和路径即可。"
   ]
  },
  {
   "cell_type": "code",
   "execution_count": 2,
   "metadata": {},
   "outputs": [],
   "source": [
    "import os\n",
    "import netCDF4 as nc\n",
    "import numpy as np\n",
    "from osgeo import gdal, osr, ogr\n",
    "import glob"
   ]
  },
  {
   "cell_type": "code",
   "execution_count": 3,
   "metadata": {},
   "outputs": [],
   "source": [
    "def nc2tif(data, Output_folder):\n",
    "    gpp_data = nc.Dataset(data)  # 利用.Dataset()读取nc数据\n",
    "\n",
    "    Lat_data = gpp_data.variables['lat'][:]\n",
    "    # print(Lat_data)\n",
    "    Lon_data = gpp_data.variables['lon'][:]\n",
    "    # print(Lon_data)\n",
    "\n",
    "    #pre_arr= np.asarray(pre_data.variables['gpp'])#属性变量名\n",
    "    gpp_arr= gpp_data['gpp']#属性变量名\n",
    "    gpp_mean=np.mean(gpp_arr,axis=0)*31536000000 #时间平均     论文的单位 g/(m^2 year)   数据单位 kg/(m^2 s)\n",
    "    print(gpp_arr.shape)\n",
    "    print(gpp_mean.shape)\n",
    "\n",
    "    # 影像的左上角&右下角坐标\n",
    "    Lonmin, Latmax, Lonmax, Latmin = [Lon_data.min(), Lat_data.max(), Lon_data.max(), Lat_data.min()]\n",
    "    # Lonmin, Latmax, Lonmax, Latmin\n",
    "\n",
    "\n",
    "    # 分辨率计算\n",
    "    Num_lat = len(Lat_data)  \n",
    "    Num_lon = len(Lon_data)  \n",
    "    Lat_res = (Latmax - Latmin) / (float(Num_lat) - 1)\n",
    "    Lon_res = (Lonmax - Lonmin) / (float(Num_lon) - 1)\n",
    "    # print(Num_lat, Num_lon)\n",
    "    # print(Lat_res, Lon_res)\n",
    "\n",
    "\n",
    "    # for i in range(len(gpp_mean[:])):\n",
    "        # i=0,1,2,3,4,5,6,7,8,9,...\n",
    "        # 创建tif文件\n",
    "    driver = gdal.GetDriverByName('GTiff')\n",
    "    out_tif_name = Output_folder + '\\\\' + data.split('\\\\')[-1][:-3] + '_' + str(1) + '.tif'\n",
    "    out_tif = driver.Create(out_tif_name, Num_lon, Num_lat, 1, gdal.GDT_Int16)\n",
    "\n",
    "    # 设置影像的显示范围\n",
    "    # Lat_re前需要添加负号\n",
    "    geotransform = (Lonmin, Lon_res, 0.0, Latmax, 0.0, -Lat_res)\n",
    "    out_tif.SetGeoTransform(geotransform)\n",
    "\n",
    "    # 定义投影\n",
    "    prj = osr.SpatialReference()\n",
    "    prj.ImportFromEPSG(4326)\n",
    "    out_tif.SetProjection(prj.ExportToWkt())\n",
    "\n",
    "    # 数据导出\n",
    "    gpp_mean[gpp_mean < 10**-10] = np.NaN\n",
    "    gpp_mean = np.flip(gpp_mean, 0)\n",
    "    out_tif.GetRasterBand(1).WriteArray(gpp_mean)  # 将数据写入内存\n",
    "    out_tif.FlushCache()  # 将数据写入到硬盘\n",
    "    out_tif = None  # 关闭tif文件"
   ]
  },
  {
   "cell_type": "code",
   "execution_count": 4,
   "metadata": {},
   "outputs": [
    {
     "name": "stdout",
     "output_type": "stream",
     "text": [
      "['G:/lywzh/2023-1-2data\\\\gpp_Lmon_GISS-E2-1-G_historical_r1i1p1f1_gn_200101-201412.nc', 'G:/lywzh/2023-1-2data\\\\gpp_Lmon_GISS-E2-1-H_historical_r1i1p1f1_gn_200101-201412.nc', 'G:/lywzh/2023-1-2data\\\\gpp_Lmon_INM-CM4-8_historical_r1i1p1f1_gr1_200001-201412.nc']\n",
      "(168, 90, 144)\n",
      "(90, 144)\n",
      "G:/lywzh/2023-1-2data\\gpp_Lmon_GISS-E2-1-G_historical_r1i1p1f1_gn_200101-201412.nc转tif成功\n",
      "(168, 90, 144)\n",
      "(90, 144)\n",
      "G:/lywzh/2023-1-2data\\gpp_Lmon_GISS-E2-1-H_historical_r1i1p1f1_gn_200101-201412.nc转tif成功\n",
      "(180, 120, 180)\n",
      "(120, 180)\n",
      "G:/lywzh/2023-1-2data\\gpp_Lmon_INM-CM4-8_historical_r1i1p1f1_gr1_200001-201412.nc转tif成功\n"
     ]
    }
   ],
   "source": [
    "def main():\n",
    "    Input_folder = r'G:/lywzh/2023-1-2data/'\n",
    "    Output_folder = r'G:/lywzh/2023-1-2data/'\n",
    "    data_list = glob.glob(os.path.join(Input_folder, '*.nc'))\n",
    "    data_list.sort()\n",
    "    # 读取所有数据\n",
    "\n",
    "    print(data_list)\n",
    "    for i in range(len(data_list)):\n",
    "        data = data_list[i]\n",
    "        nc2tif(data, Output_folder)\n",
    "        print(data + '转tif成功')\n",
    "\n",
    "main()\n"
   ]
  },
  {
   "cell_type": "code",
   "execution_count": null,
   "metadata": {},
   "outputs": [],
   "source": []
  }
 ],
 "metadata": {
  "kernelspec": {
   "display_name": "hoax",
   "language": "python",
   "name": "python3"
  },
  "language_info": {
   "codemirror_mode": {
    "name": "ipython",
    "version": 3
   },
   "file_extension": ".py",
   "mimetype": "text/x-python",
   "name": "python",
   "nbconvert_exporter": "python",
   "pygments_lexer": "ipython3",
   "version": "3.8.16"
  },
  "orig_nbformat": 4,
  "vscode": {
   "interpreter": {
    "hash": "58e58d27fbb682236618902f9a2dd9b2e7a2d4cebe94f14737f7d0600bab75e4"
   }
  }
 },
 "nbformat": 4,
 "nbformat_minor": 2
}
